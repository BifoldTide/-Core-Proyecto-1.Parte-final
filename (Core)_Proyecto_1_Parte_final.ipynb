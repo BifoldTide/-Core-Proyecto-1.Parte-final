{
  "nbformat": 4,
  "nbformat_minor": 0,
  "metadata": {
    "colab": {
      "provenance": [],
      "mount_file_id": "1FX6zTj_xHrP2yeGwY1iCDcADXxctI27f",
      "authorship_tag": "ABX9TyO7JV3cS1ruokXRPCycl3dK",
      "include_colab_link": true
    },
    "kernelspec": {
      "name": "python3",
      "display_name": "Python 3"
    },
    "language_info": {
      "name": "python"
    }
  },
  "cells": [
    {
      "cell_type": "markdown",
      "metadata": {
        "id": "view-in-github",
        "colab_type": "text"
      },
      "source": [
        "<a href=\"https://colab.research.google.com/github/BifoldTide/-Core-Proyecto-1.Parte-final/blob/main/(Core)_Proyecto_1_Parte_final.ipynb\" target=\"_parent\"><img src=\"https://colab.research.google.com/assets/colab-badge.svg\" alt=\"Open In Colab\"/></a>"
      ]
    },
    {
      "cell_type": "markdown",
      "source": [
        "### Carga de datos"
      ],
      "metadata": {
        "id": "pxrHbuwVjcnH"
      }
    },
    {
      "cell_type": "code",
      "execution_count": 2,
      "metadata": {
        "id": "k-7duOBwjPoi"
      },
      "outputs": [],
      "source": [
        "# Importación de bibliotecas\n",
        "import pandas as pd\n",
        "import numpy as np"
      ]
    },
    {
      "cell_type": "code",
      "source": [
        "# Cargar los datos\n",
        "path = \"/content/drive/MyDrive/BBDD SONDA/Retail_Sales_Dates_Clean.csv\"\n",
        "df = pd.read_csv(path)\n",
        "df.info()"
      ],
      "metadata": {
        "colab": {
          "base_uri": "https://localhost:8080/"
        },
        "id": "aD_rD2pujmwu",
        "outputId": "7af6d76e-7a1e-4f07-bea9-5718d9185ca8"
      },
      "execution_count": 3,
      "outputs": [
        {
          "output_type": "stream",
          "name": "stdout",
          "text": [
            "<class 'pandas.core.frame.DataFrame'>\n",
            "RangeIndex: 1000 entries, 0 to 999\n",
            "Data columns (total 15 columns):\n",
            " #   Column            Non-Null Count  Dtype  \n",
            "---  ------            --------------  -----  \n",
            " 0   Unnamed: 0.1      1000 non-null   int64  \n",
            " 1   Unnamed: 0        1000 non-null   int64  \n",
            " 2   Transaction ID    1000 non-null   int64  \n",
            " 3   Date              1000 non-null   object \n",
            " 4   Customer ID       1000 non-null   object \n",
            " 5   Gender            1000 non-null   object \n",
            " 6   Age               1000 non-null   int64  \n",
            " 7   Product Category  1000 non-null   object \n",
            " 8   Quantity          1000 non-null   int64  \n",
            " 9   Price per Unit    1000 non-null   int64  \n",
            " 10  Total Amount      1000 non-null   int64  \n",
            " 11  Normalized Sales  1000 non-null   float64\n",
            " 12  Category          903 non-null    object \n",
            " 13  Month             1000 non-null   int64  \n",
            " 14  Year              1000 non-null   int64  \n",
            "dtypes: float64(1), int64(9), object(5)\n",
            "memory usage: 117.3+ KB\n"
          ]
        }
      ]
    },
    {
      "cell_type": "code",
      "source": [
        "# Eliminar columnas innecesarias para el modelo\n",
        "df = df.drop(columns = [\"Unnamed: 0.1\", \"Unnamed: 0\", \"Transaction ID\", \"Date\", \"Customer ID\", \"Normalized Sales\", \"Category\"])\n",
        "df.info()"
      ],
      "metadata": {
        "colab": {
          "base_uri": "https://localhost:8080/"
        },
        "id": "oPTHmzbqX2bw",
        "outputId": "480296c8-f4e8-4510-c753-f1509fe73188"
      },
      "execution_count": 4,
      "outputs": [
        {
          "output_type": "stream",
          "name": "stdout",
          "text": [
            "<class 'pandas.core.frame.DataFrame'>\n",
            "RangeIndex: 1000 entries, 0 to 999\n",
            "Data columns (total 8 columns):\n",
            " #   Column            Non-Null Count  Dtype \n",
            "---  ------            --------------  ----- \n",
            " 0   Gender            1000 non-null   object\n",
            " 1   Age               1000 non-null   int64 \n",
            " 2   Product Category  1000 non-null   object\n",
            " 3   Quantity          1000 non-null   int64 \n",
            " 4   Price per Unit    1000 non-null   int64 \n",
            " 5   Total Amount      1000 non-null   int64 \n",
            " 6   Month             1000 non-null   int64 \n",
            " 7   Year              1000 non-null   int64 \n",
            "dtypes: int64(6), object(2)\n",
            "memory usage: 62.6+ KB\n"
          ]
        }
      ]
    },
    {
      "cell_type": "markdown",
      "source": [
        "### Entrenamiento de modelos"
      ],
      "metadata": {
        "id": "BzLof1CbkNek"
      }
    },
    {
      "cell_type": "code",
      "source": [
        "# Orden de datos\n",
        "X = df.drop(columns = \"Total Amount\")\n",
        "y = df[\"Total Amount\"]\n",
        "\n",
        "# Clasificación de columnas\n",
        "col_num = [\"Age\", \"Quantity\", \"Price per Unit\", \"Month\", \"Year\"]\n",
        "col_nom = [\"Gender\", \"Product Category\"]"
      ],
      "metadata": {
        "id": "K_4hM5_TkcSB"
      },
      "execution_count": 5,
      "outputs": []
    },
    {
      "cell_type": "code",
      "source": [
        "# Importar bibliotecas de modelos\n",
        "from sklearn.model_selection import train_test_split\n",
        "from sklearn.preprocessing import StandardScaler, OneHotEncoder\n",
        "from sklearn.metrics import classification_report\n",
        "from sklearn.compose import ColumnTransformer\n",
        "from sklearn.pipeline import Pipeline\n",
        "from sklearn.linear_model import LinearRegression\n",
        "from sklearn.neighbors import KNeighborsRegressor\n",
        "from sklearn.tree import DecisionTreeRegressor\n",
        "from sklearn.ensemble import RandomForestRegressor\n",
        "from xgboost import XGBRegressor\n",
        "from lightgbm import LGBMRegressor\n",
        "from sklearn.metrics import mean_squared_error, r2_score, mean_absolute_error\n",
        "from sklearn.model_selection import cross_val_score"
      ],
      "metadata": {
        "id": "Q4aUzNJOaRB-"
      },
      "execution_count": 15,
      "outputs": []
    },
    {
      "cell_type": "code",
      "source": [
        "# entrenamiento de modelos\n",
        "X_train, X_test, y_train, y_test = train_test_split(X, y, random_state = 96)\n",
        "\n",
        "# Preprocesador\n",
        "preprocessor = ColumnTransformer(transformers=[\n",
        "    (\"num\", StandardScaler(), col_num),\n",
        "    (\"nom\", OneHotEncoder(handle_unknown='ignore'), col_nom),\n",
        "])\n",
        "\n",
        "# Modelos\n",
        "pipeline_line = Pipeline([\n",
        "    (\"preprocessing\", preprocessor),\n",
        "    (\"model\", LinearRegression())\n",
        "])\n",
        "\n",
        "pipeline_knn = Pipeline([\n",
        "    (\"preprocessing\", preprocessor),\n",
        "    (\"model\", KNeighborsRegressor(n_neighbors = 5))\n",
        "])\n",
        "\n",
        "pipeline_tree = Pipeline([\n",
        "    (\"preprocessing\", preprocessor),\n",
        "    (\"model\", DecisionTreeRegressor(max_depth=5, random_state=96))\n",
        "])\n",
        "\n",
        "pipeline_forest = Pipeline([\n",
        "    (\"preprocessing\", preprocessor),\n",
        "    (\"model\", RandomForestRegressor(n_estimators = 100, random_state = 96))\n",
        "])\n",
        "\n",
        "pipeline_xgb = Pipeline([\n",
        "    (\"pp\", preprocessor),\n",
        "    (\"model\", XGBRegressor(random_state=96))\n",
        "  ])\n",
        "\n",
        "mode_LGBM = Pipeline([\n",
        "    (\"pp\", preprocessor),\n",
        "    (\"model\", LGBMRegressor(random_state=96))\n",
        "  ])"
      ],
      "metadata": {
        "id": "S7em16kYdlru"
      },
      "execution_count": 13,
      "outputs": []
    },
    {
      "cell_type": "code",
      "source": [
        "# Entrenar modelos\n",
        "pipeline_line.fit(X_train, y_train)\n",
        "pipeline_knn.fit(X_train, y_train)\n",
        "pipeline_tree.fit(X_train, y_train)\n",
        "pipeline_forest.fit(X_train, y_train)\n",
        "pipeline_xgb.fit(X_train, y_train)\n",
        "mode_LGBM.fit(X_train, y_train)"
      ],
      "metadata": {
        "id": "oYXnd9Heir4C"
      },
      "execution_count": null,
      "outputs": []
    },
    {
      "cell_type": "code",
      "source": [
        "# Predicciones\n",
        "line_pred = pipeline_line.predict(X_test)\n",
        "knn_pred = pipeline_knn.predict(X_test)\n",
        "tree_pred = pipeline_tree.predict(X_test)\n",
        "forest_pred = pipeline_forest.predict(X_test)\n",
        "xgb_pred = pipeline_xgb.predict(X_test)\n",
        "lgbm_pred = mode_LGBM.predict(X_test)"
      ],
      "metadata": {
        "colab": {
          "base_uri": "https://localhost:8080/"
        },
        "id": "AisjDxc3uyca",
        "outputId": "a64ec5b7-d2d2-4c25-b71f-f0ce83efe227"
      },
      "execution_count": 19,
      "outputs": [
        {
          "output_type": "stream",
          "name": "stderr",
          "text": [
            "/usr/local/lib/python3.11/dist-packages/sklearn/utils/deprecation.py:151: FutureWarning: 'force_all_finite' was renamed to 'ensure_all_finite' in 1.6 and will be removed in 1.8.\n",
            "  warnings.warn(\n"
          ]
        }
      ]
    },
    {
      "cell_type": "code",
      "source": [
        "print(f\"Datos lineales: R2 - {r2_score(y_test, line_pred)}, MAE - {mean_absolute_error(y_test, line_pred)}, MSE - {mean_squared_error(y_test, line_pred)}\")\n",
        "print(f\"Datos KNN: R2 - {r2_score(y_test, knn_pred)}, MAE - {mean_absolute_error(y_test, knn_pred)}, MSE - {mean_squared_error(y_test, knn_pred)}\")\n",
        "print(f\"Datos de árbol: R2 - {r2_score(y_test, tree_pred)}, MAE - {mean_absolute_error(y_test, line_pred)}, MSE - {mean_squared_error(y_test, tree_pred)}\")\n",
        "print(f\"Datos bosque: R2 - {r2_score(y_test, forest_pred)}, MAE - {mean_absolute_error(y_test, forest_pred)}, MSE - {mean_squared_error(y_test, forest_pred)}\")\n",
        "print(f\"Datos xgb: R2 - {r2_score(y_test, xgb_pred)}, MAE - {mean_absolute_error(y_test, xgb_pred)}, MSE - {mean_squared_error(y_test, xgb_pred)}\")\n",
        "print(f\"Datos lgbm: R2 - {r2_score(y_test, lgbm_pred)}, MAE - {mean_absolute_error(y_test, lgbm_pred)}, MSE - {mean_squared_error(y_test, lgbm_pred)}\")\n"
      ],
      "metadata": {
        "colab": {
          "base_uri": "https://localhost:8080/"
        },
        "id": "sr1KDFYavfm8",
        "outputId": "fcf3eaae-a3f0-451a-ea37-b7cd7e9c2069"
      },
      "execution_count": 24,
      "outputs": [
        {
          "output_type": "stream",
          "name": "stdout",
          "text": [
            "Datos lineales: R2 - 0.863740320220074, MAE - 176.01666656022155, MSE - 45786.50606919278\n",
            "Datos KNN: R2 - 0.9421041620832622, MAE - 84.96, MSE - 19454.384\n",
            "Datos de árbol: R2 - 1.0, MAE - 176.01666656022155, MSE - 0.0\n",
            "Datos bosque: R2 - 1.0, MAE - 0.0, MSE - 0.0\n",
            "Datos xgb: R2 - 1.0, MAE - 7.009887485764921e-05, MSE - 8.716480870418764e-09\n",
            "Datos lgbm: R2 - 0.9999999992858779, MAE - 0.012625084894778269, MSE - 0.00023996208657656252\n"
          ]
        }
      ]
    },
    {
      "cell_type": "markdown",
      "source": [
        "En este caso, el mejor modelo es RandomForest: 1, 0, 0"
      ],
      "metadata": {
        "id": "qi553WV4xZXE"
      }
    }
  ]
}